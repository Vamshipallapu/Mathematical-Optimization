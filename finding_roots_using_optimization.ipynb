{
  "nbformat": 4,
  "nbformat_minor": 0,
  "metadata": {
    "colab": {
      "provenance": []
    },
    "kernelspec": {
      "name": "python3",
      "display_name": "Python 3"
    },
    "language_info": {
      "name": "python"
    }
  },
  "cells": [
    {
      "cell_type": "markdown",
      "source": [
        "**What is scipy**\n"
      ],
      "metadata": {
        "id": "j_hYSmCnvi0K"
      }
    },
    {
      "cell_type": "markdown",
      "source": [
        "Scipy is a python library used for scientific computing, it contains modules for optimization, linear algebra,integration,interpolation,special functions,Fast Fourier Transforms(FFT), signal and image Processing, ODE solvers and other tasks common in science and engineering"
      ],
      "metadata": {
        "id": "D5Py7G4dvn80"
      }
    },
    {
      "cell_type": "markdown",
      "source": [
        "Lets take an example of finding roots for polynomial function"
      ],
      "metadata": {
        "id": "GlIRBod0xiXV"
      }
    },
    {
      "cell_type": "markdown",
      "source": [
        "**finding roots of f(x)=0**"
      ],
      "metadata": {
        "id": "NwBRtKyCxow3"
      }
    },
    {
      "cell_type": "code",
      "execution_count": 1,
      "metadata": {
        "id": "PvhkgrAgvY8T"
      },
      "outputs": [],
      "source": [
        " def f(x):\n",
        "   return x**3-2*x**2-5*x+2"
      ]
    },
    {
      "cell_type": "code",
      "source": [
        "import numpy as np\n",
        "import matplotlib.pyplot as plt\n",
        "%matplotlib inline\n",
        "x=np.linspace(-3,5,100)\n",
        "y=f(x)\n",
        "plt.plot(y)\n",
        "plt.grid()\n",
        "plt.show()"
      ],
      "metadata": {
        "colab": {
          "base_uri": "https://localhost:8080/",
          "height": 265
        },
        "id": "JeVkzEXuyF6d",
        "outputId": "21e3ee8f-6a6f-4d85-c58c-92266b174b6c"
      },
      "execution_count": 7,
      "outputs": [
        {
          "output_type": "display_data",
          "data": {
            "text/plain": [
              "<Figure size 432x288 with 1 Axes>"
            ],
            "image/png": "[encoded data removed]"
          },
          "metadata": {
            "needs_background": "light"
          }
        }
      ]
    },
    {
      "cell_type": "markdown",
      "source": [
        "Now we can use optimize module in the scipy to find the roots of the polynomial function"
      ],
      "metadata": {
        "id": "VWdPC8gezYqW"
      }
    },
    {
      "cell_type": "code",
      "source": [
        "from scipy import optimize"
      ],
      "metadata": {
        "id": "TkF0aaiMzgs4"
      },
      "execution_count": 8,
      "outputs": []
    },
    {
      "cell_type": "markdown",
      "source": [
        "As we know there are many ways to find the roots let us take one of the method bisect method "
      ],
      "metadata": {
        "id": "7Bdz-bJhz_LC"
      }
    },
    {
      "cell_type": "code",
      "source": [
        "# we have used bisection method to find the root over here\n",
        "root=optimize.bisect(f,-20,80)\n",
        "print(root)"
      ],
      "metadata": {
        "colab": {
          "base_uri": "https://localhost:8080/",
          "height": 0
        },
        "id": "D99OjukH0HTD",
        "outputId": "90c47149-523f-461a-97be-d28942a33dfd"
      },
      "execution_count": 13,
      "outputs": [
        {
          "output_type": "stream",
          "name": "stdout",
          "text": [
            "-1.6813306436060316\n"
          ]
        }
      ]
    },
    {
      "cell_type": "code",
      "source": [
        "root=optimize.bisect(f,-2,8)\n",
        "print(root)"
      ],
      "metadata": {
        "colab": {
          "base_uri": "https://localhost:8080/",
          "height": 0
        },
        "id": "E_tihvKJ-d53",
        "outputId": "2f982ea9-4c90-4942-8b83-72ebd8639393"
      },
      "execution_count": 16,
      "outputs": [
        {
          "output_type": "stream",
          "name": "stdout",
          "text": [
            "3.323404276085739\n"
          ]
        }
      ]
    },
    {
      "cell_type": "code",
      "source": [
        "root=optimize.newton(f,2.8) #using secant method\n",
        "print(root)"
      ],
      "metadata": {
        "colab": {
          "base_uri": "https://localhost:8080/",
          "height": 0
        },
        "id": "dW0lDiH3-ogm",
        "outputId": "7db6b2f6-f2a9-45b6-f8a4-107107c0c3fc"
      },
      "execution_count": 17,
      "outputs": [
        {
          "output_type": "stream",
          "name": "stdout",
          "text": [
            "3.323404276086478\n"
          ]
        }
      ]
    },
    {
      "cell_type": "code",
      "source": [
        "#using Newton Raphson method\n",
        "root=optimize.newton(f,1.5,fprime=lambda x:3*x**2-4*x-5)\n",
        "print(root)"
      ],
      "metadata": {
        "colab": {
          "base_uri": "https://localhost:8080/",
          "height": 0
        },
        "id": "OBlaC13wDN_D",
        "outputId": "971166d0-d07b-454f-f1a1-df7ee0330842"
      },
      "execution_count": 18,
      "outputs": [
        {
          "output_type": "stream",
          "name": "stdout",
          "text": [
            "0.35792636751849977\n"
          ]
        }
      ]
    }
  ]
}